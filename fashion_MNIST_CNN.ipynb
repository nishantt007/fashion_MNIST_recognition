{
 "cells": [
  {
   "cell_type": "code",
   "execution_count": 1,
   "outputs": [],
   "source": [
    "import tensorflow as tf\n",
    "from tensorflow import keras"
   ],
   "metadata": {
    "collapsed": false
   }
  },
  {
   "cell_type": "markdown",
   "source": [
    "# Data Loading and Preprocessing"
   ],
   "metadata": {
    "collapsed": false
   }
  },
  {
   "cell_type": "code",
   "execution_count": 6,
   "outputs": [
    {
     "name": "stdout",
     "output_type": "stream",
     "text": [
      "Downloading data from https://storage.googleapis.com/tensorflow/tf-keras-datasets/train-labels-idx1-ubyte.gz\n",
      "29515/29515 [==============================] - 0s 0us/step\n",
      "Downloading data from https://storage.googleapis.com/tensorflow/tf-keras-datasets/train-images-idx3-ubyte.gz\n",
      "26421880/26421880 [==============================] - 2s 0us/step\n",
      "Downloading data from https://storage.googleapis.com/tensorflow/tf-keras-datasets/t10k-labels-idx1-ubyte.gz\n",
      "5148/5148 [==============================] - 0s 0s/step\n",
      "Downloading data from https://storage.googleapis.com/tensorflow/tf-keras-datasets/t10k-images-idx3-ubyte.gz\n",
      "4422102/4422102 [==============================] - 0s 0us/step\n"
     ]
    }
   ],
   "source": [
    "fashion_mnist = keras.datasets.fashion_mnist\n",
    "(X_train_full, y_train_full), (X_test, y_test) = fashion_mnist.load_data()"
   ],
   "metadata": {
    "collapsed": false
   }
  },
  {
   "cell_type": "code",
   "execution_count": 7,
   "outputs": [],
   "source": [
    "X_valid, X_train = X_train_full[:5000] , X_train_full[5000:]\n",
    "y_valid, y_train = y_train_full[:5000] , y_train_full[5000:]"
   ],
   "metadata": {
    "collapsed": false
   }
  },
  {
   "cell_type": "code",
   "execution_count": 8,
   "outputs": [
    {
     "data": {
      "text/plain": "<Figure size 640x480 with 1 Axes>",
      "image/png": "[encoded data removed]"
     },
     "metadata": {},
     "output_type": "display_data"
    }
   ],
   "source": [
    "import matplotlib.pyplot as plt\n",
    "\n",
    "some_obj = X_train[0]\n",
    "\n",
    "plt.imshow(some_obj, cmap = 'binary') # to convert 2D numpy array to an image\n",
    "plt.axis(\"off\")\n",
    "plt.show()"
   ],
   "metadata": {
    "collapsed": false
   }
  },
  {
   "cell_type": "code",
   "execution_count": 9,
   "outputs": [
    {
     "data": {
      "text/plain": "'Coat'"
     },
     "execution_count": 9,
     "metadata": {},
     "output_type": "execute_result"
    }
   ],
   "source": [
    "# since all the 'y' values are present in only decimal numerical format rather than object names so creating class names for all different objects.\n",
    "class_names = [\"T-shirt/top\", \"Trouser\", \"Pullover\", \"Dress\", \"Coat\", \"Sandal\", \"Shirt\", \"Sneaker\", \"Bag\", \"Ankle boot\"]\n",
    "\n",
    "class_names[y_train[0]]"
   ],
   "metadata": {
    "collapsed": false
   }
  },
  {
   "cell_type": "markdown",
   "source": [
    "# CNN Sequential Model"
   ],
   "metadata": {
    "collapsed": false
   }
  },
  {
   "cell_type": "code",
   "execution_count": 10,
   "outputs": [],
   "source": [
    "model = keras.models.Sequential([\n",
    "    keras.layers.Conv2D(64, 7, activation=\"relu\", padding=\"same\", input_shape=[28, 28, 1]),\n",
    "    # 64 filters, filter_size=7, stride=none/1 (coz input image not large), shape=[28, 28, 1] (coz grayscale image only 1 channel)\n",
    "    keras.layers.MaxPooling2D(2),\n",
    "    keras.layers.Conv2D(128, 3, activation=\"relu\", padding=\"same\"),\n",
    "    keras.layers.Conv2D(128, 3, activation=\"relu\", padding=\"same\"),\n",
    "    keras.layers.MaxPooling2D(2),\n",
    "    keras.layers.Conv2D(256, 3, activation=\"relu\", padding=\"same\"),\n",
    "    keras.layers.Conv2D(256, 3, activation=\"relu\", padding=\"same\"),\n",
    "    keras.layers.MaxPooling2D(2),\n",
    "    keras.layers.Flatten(),\n",
    "    keras.layers.Dense(128, activation=\"relu\"),\n",
    "    keras.layers.Dropout(0.5),\n",
    "    keras.layers.Dense(64, activation=\"relu\"),\n",
    "    keras.layers.Dropout(0.5),\n",
    "    keras.layers.Dense(10, activation=\"softmax\")\n",
    "])"
   ],
   "metadata": {
    "collapsed": false
   }
  },
  {
   "cell_type": "code",
   "execution_count": 12,
   "outputs": [
    {
     "name": "stdout",
     "output_type": "stream",
     "text": [
      "Model: \"sequential_1\"\n",
      "_________________________________________________________________\n",
      " Layer (type)                Output Shape              Param #   \n",
      "=================================================================\n",
      " conv2d_5 (Conv2D)           (None, 28, 28, 64)        3200      \n",
      "                                                                 \n",
      " max_pooling2d_3 (MaxPooling  (None, 14, 14, 64)       0         \n",
      " 2D)                                                             \n",
      "                                                                 \n",
      " conv2d_6 (Conv2D)           (None, 14, 14, 128)       73856     \n",
      "                                                                 \n",
      " conv2d_7 (Conv2D)           (None, 14, 14, 128)       147584    \n",
      "                                                                 \n",
      " max_pooling2d_4 (MaxPooling  (None, 7, 7, 128)        0         \n",
      " 2D)                                                             \n",
      "                                                                 \n",
      " conv2d_8 (Conv2D)           (None, 7, 7, 256)         295168    \n",
      "                                                                 \n",
      " conv2d_9 (Conv2D)           (None, 7, 7, 256)         590080    \n",
      "                                                                 \n",
      " max_pooling2d_5 (MaxPooling  (None, 3, 3, 256)        0         \n",
      " 2D)                                                             \n",
      "                                                                 \n",
      " flatten_1 (Flatten)         (None, 2304)              0         \n",
      "                                                                 \n",
      " dense_3 (Dense)             (None, 128)               295040    \n",
      "                                                                 \n",
      " dropout_2 (Dropout)         (None, 128)               0         \n",
      "                                                                 \n",
      " dense_4 (Dense)             (None, 64)                8256      \n",
      "                                                                 \n",
      " dropout_3 (Dropout)         (None, 64)                0         \n",
      "                                                                 \n",
      " dense_5 (Dense)             (None, 10)                650       \n",
      "                                                                 \n",
      "=================================================================\n",
      "Total params: 1,413,834\n",
      "Trainable params: 1,413,834\n",
      "Non-trainable params: 0\n",
      "_________________________________________________________________\n"
     ]
    }
   ],
   "source": [
    "model.summary()"
   ],
   "metadata": {
    "collapsed": false
   }
  },
  {
   "cell_type": "code",
   "execution_count": 13,
   "outputs": [
    {
     "data": {
      "text/plain": "[<keras.layers.convolutional.conv2d.Conv2D at 0x1c3fc87b880>,\n <keras.layers.pooling.max_pooling2d.MaxPooling2D at 0x1c3fc87bb50>,\n <keras.layers.convolutional.conv2d.Conv2D at 0x1c3fc878580>,\n <keras.layers.convolutional.conv2d.Conv2D at 0x1c3fc878940>,\n <keras.layers.pooling.max_pooling2d.MaxPooling2D at 0x1c3fc87a260>,\n <keras.layers.convolutional.conv2d.Conv2D at 0x1c3cd9939a0>,\n <keras.layers.convolutional.conv2d.Conv2D at 0x1c3fc8788e0>,\n <keras.layers.pooling.max_pooling2d.MaxPooling2D at 0x1c3f6a17be0>,\n <keras.layers.reshaping.flatten.Flatten at 0x1c3fc878130>,\n <keras.layers.core.dense.Dense at 0x1c3fc879b70>,\n <keras.layers.regularization.dropout.Dropout at 0x1c3fc8791b0>,\n <keras.layers.core.dense.Dense at 0x1c3fc879900>,\n <keras.layers.regularization.dropout.Dropout at 0x1c3fc8797b0>,\n <keras.layers.core.dense.Dense at 0x1c3fc878e20>]"
     },
     "execution_count": 13,
     "metadata": {},
     "output_type": "execute_result"
    }
   ],
   "source": [
    "model.layers"
   ],
   "metadata": {
    "collapsed": false
   }
  },
  {
   "cell_type": "code",
   "execution_count": 14,
   "outputs": [
    {
     "data": {
      "text/plain": "'max_pooling2d_4'"
     },
     "execution_count": 14,
     "metadata": {},
     "output_type": "execute_result"
    }
   ],
   "source": [
    "hidden4 = model.layers[4]\n",
    "hidden4.name"
   ],
   "metadata": {
    "collapsed": false
   }
  },
  {
   "cell_type": "code",
   "execution_count": 16,
   "outputs": [
    {
     "ename": "ValueError",
     "evalue": "not enough values to unpack (expected 2, got 0)",
     "output_type": "error",
     "traceback": [
      "\u001B[1;31m---------------------------------------------------------------------------\u001B[0m",
      "\u001B[1;31mValueError\u001B[0m                                Traceback (most recent call last)",
      "Cell \u001B[1;32mIn[16], line 1\u001B[0m\n\u001B[1;32m----> 1\u001B[0m weights, biases \u001B[38;5;241m=\u001B[39m hidden4\u001B[38;5;241m.\u001B[39mget_weights()\n\u001B[0;32m      2\u001B[0m weights\u001B[38;5;241m.\u001B[39mshape\n",
      "\u001B[1;31mValueError\u001B[0m: not enough values to unpack (expected 2, got 0)"
     ]
    }
   ],
   "source": [
    "weights, biases = hidden4.get_weights()\n",
    "weights.shape\n",
    "\n",
    "# This throws error because Pooling layers have no parameters to learn like weights and biases. Only hyperparameter is the kernel size and once it's fixed, there is nothing to learn for the layer."
   ],
   "metadata": {
    "collapsed": false
   }
  },
  {
   "cell_type": "code",
   "execution_count": 17,
   "outputs": [
    {
     "data": {
      "text/plain": "'conv2d_9'"
     },
     "execution_count": 17,
     "metadata": {},
     "output_type": "execute_result"
    }
   ],
   "source": [
    "hidden6 = model.layers[6]\n",
    "hidden6.name"
   ],
   "metadata": {
    "collapsed": false
   }
  },
  {
   "cell_type": "code",
   "execution_count": 18,
   "outputs": [
    {
     "data": {
      "text/plain": "(3, 3, 256, 256)"
     },
     "execution_count": 18,
     "metadata": {},
     "output_type": "execute_result"
    }
   ],
   "source": [
    "weights, biases = hidden6.get_weights()\n",
    "weights.shape\n",
    "\n",
    "# Weights has shape (height, widhth, no. of input layer channels, no. of filters). It is 4D tensor"
   ],
   "metadata": {
    "collapsed": false
   }
  },
  {
   "cell_type": "code",
   "execution_count": 19,
   "outputs": [
    {
     "data": {
      "text/plain": "(256,)"
     },
     "execution_count": 19,
     "metadata": {},
     "output_type": "execute_result"
    }
   ],
   "source": [
    "biases.shape\n",
    "\n",
    "# Bias has shape (no. of filters). It is 1D tensor"
   ],
   "metadata": {
    "collapsed": false
   }
  },
  {
   "cell_type": "markdown",
   "source": [
    "# Model Compilation"
   ],
   "metadata": {
    "collapsed": false
   }
  },
  {
   "cell_type": "code",
   "execution_count": 20,
   "outputs": [],
   "source": [
    "model.compile(loss=\"sparse_categorical_crossentropy\", optimizer=\"sgd\", metrics=[\"accuracy\"])\n",
    "\n",
    "# \"sparse_catego...\" because sparse models only i.e. single target class from 0 to 9 and are exclusive. If using one-hot vectors then need \"catego...\" or if doing binary classification in output layer then use \"binary_cross...\" loss.\n",
    "# \"sgd\" performs back-propagation and has default \"lr=0.01\""
   ],
   "metadata": {
    "collapsed": false
   }
  },
  {
   "cell_type": "markdown",
   "source": [
    "# Model Training"
   ],
   "metadata": {
    "collapsed": false
   }
  },
  {
   "cell_type": "code",
   "execution_count": null,
   "outputs": [
    {
     "name": "stdout",
     "output_type": "stream",
     "text": [
      "Epoch 1/20\n",
      "1719/1719 [==============================] - 361s 210ms/step - loss: 0.8001 - accuracy: 0.7115 - val_loss: 0.4453 - val_accuracy: 0.8264\n",
      "Epoch 2/20\n",
      "1719/1719 [==============================] - 314s 183ms/step - loss: 0.5873 - accuracy: 0.7924 - val_loss: 0.3883 - val_accuracy: 0.8670\n",
      "Epoch 3/20\n",
      "1719/1719 [==============================] - 309s 180ms/step - loss: 0.5035 - accuracy: 0.8249 - val_loss: 0.3537 - val_accuracy: 0.8724\n",
      "Epoch 4/20\n",
      "1719/1719 [==============================] - 317s 185ms/step - loss: 0.4532 - accuracy: 0.8434 - val_loss: 0.3197 - val_accuracy: 0.8806\n",
      "Epoch 5/20\n",
      "1719/1719 [==============================] - 317s 184ms/step - loss: 0.4166 - accuracy: 0.8572 - val_loss: 0.3142 - val_accuracy: 0.8832\n",
      "Epoch 6/20\n",
      "1719/1719 [==============================] - 321s 187ms/step - loss: 0.3884 - accuracy: 0.8678 - val_loss: 0.2867 - val_accuracy: 0.8954\n",
      "Epoch 7/20\n",
      "1719/1719 [==============================] - 344s 200ms/step - loss: 0.3629 - accuracy: 0.8769 - val_loss: 0.2917 - val_accuracy: 0.8904\n",
      "Epoch 8/20\n",
      "1719/1719 [==============================] - 443s 258ms/step - loss: 0.3425 - accuracy: 0.8831 - val_loss: 0.2831 - val_accuracy: 0.8958\n",
      "Epoch 9/20\n",
      "1719/1719 [==============================] - 309s 180ms/step - loss: 0.3234 - accuracy: 0.8893 - val_loss: 0.2522 - val_accuracy: 0.9084\n",
      "Epoch 10/20\n",
      "1719/1719 [==============================] - 301s 175ms/step - loss: 0.3037 - accuracy: 0.8968 - val_loss: 0.2564 - val_accuracy: 0.9066\n",
      "Epoch 11/20\n",
      "1719/1719 [==============================] - 291s 169ms/step - loss: 0.2907 - accuracy: 0.9015 - val_loss: 0.2610 - val_accuracy: 0.9030\n",
      "Epoch 12/20\n",
      "1719/1719 [==============================] - 290s 169ms/step - loss: 0.2730 - accuracy: 0.9057 - val_loss: 0.2588 - val_accuracy: 0.9094\n",
      "Epoch 13/20\n",
      "1719/1719 [==============================] - 300s 174ms/step - loss: 0.2647 - accuracy: 0.9094 - val_loss: 0.2520 - val_accuracy: 0.9164\n",
      "Epoch 14/20\n",
      "1719/1719 [==============================] - 310s 180ms/step - loss: 0.2491 - accuracy: 0.9145 - val_loss: 0.2558 - val_accuracy: 0.9164\n",
      "Epoch 15/20\n",
      "1719/1719 [==============================] - 306s 178ms/step - loss: 0.2403 - accuracy: 0.9176 - val_loss: 0.2542 - val_accuracy: 0.9168\n",
      "Epoch 16/20\n",
      "1719/1719 [==============================] - 281s 163ms/step - loss: 0.2295 - accuracy: 0.9208 - val_loss: 0.2737 - val_accuracy: 0.9112\n",
      "Epoch 17/20\n",
      "1719/1719 [==============================] - 401s 234ms/step - loss: 0.2233 - accuracy: 0.9227 - val_loss: 0.2590 - val_accuracy: 0.9156\n",
      "Epoch 18/20\n",
      "1719/1719 [==============================] - 430s 250ms/step - loss: 0.2097 - accuracy: 0.9281 - val_loss: 0.2664 - val_accuracy: 0.9092\n",
      "Epoch 19/20\n",
      "1719/1719 [==============================] - 433s 252ms/step - loss: 0.2017 - accuracy: 0.9299 - val_loss: 0.2517 - val_accuracy: 0.9184\n",
      "Epoch 20/20\n",
      " 815/1719 [=============>................] - ETA: 3:40 - loss: 0.1818 - accuracy: 0.9366"
     ]
    }
   ],
   "source": [
    "model_train = model.fit(X_train, y_train, epochs=20, validation_data=(X_valid, y_valid))"
   ],
   "metadata": {
    "collapsed": false,
    "pycharm": {
     "is_executing": true
    }
   }
  },
  {
   "cell_type": "markdown",
   "source": [
    "# Learning Curves for the model"
   ],
   "metadata": {
    "collapsed": false
   }
  },
  {
   "cell_type": "code",
   "execution_count": 24,
   "outputs": [
    {
     "data": {
      "text/plain": "<Figure size 800x500 with 1 Axes>",
      "image/png": "[encoded data removed]"
     },
     "metadata": {},
     "output_type": "display_data"
    }
   ],
   "source": [
    "import pandas as pd\n",
    "\n",
    "pd.DataFrame(model_train.history).plot(figsize=(8, 5))\n",
    "plt.grid()\n",
    "plt.gca().set_ylim(0, 1) # set the y-axis range to [0-1]\n",
    "plt.show()\n",
    "\n",
    "# gca='Get Current Axes' provides a handle to the last active axes"
   ],
   "metadata": {
    "collapsed": false
   }
  },
  {
   "cell_type": "markdown",
   "source": [
    "# Model Evaluation"
   ],
   "metadata": {
    "collapsed": false
   }
  },
  {
   "cell_type": "code",
   "execution_count": 25,
   "outputs": [
    {
     "name": "stdout",
     "output_type": "stream",
     "text": [
      "313/313 [==============================] - 13s 40ms/step - loss: 0.3177 - accuracy: 0.9074\n"
     ]
    },
    {
     "data": {
      "text/plain": "[0.3176578879356384, 0.9074000120162964]"
     },
     "execution_count": 25,
     "metadata": {},
     "output_type": "execute_result"
    }
   ],
   "source": [
    "model.evaluate(X_test, y_test)"
   ],
   "metadata": {
    "collapsed": false
   }
  },
  {
   "cell_type": "markdown",
   "source": [
    "# Prediction"
   ],
   "metadata": {
    "collapsed": false
   }
  },
  {
   "cell_type": "code",
   "execution_count": 26,
   "outputs": [
    {
     "name": "stdout",
     "output_type": "stream",
     "text": [
      "1/1 [==============================] - 0s 499ms/step\n"
     ]
    },
    {
     "data": {
      "text/plain": "array([[0., 0., 0., 0., 0., 0., 0., 0., 0., 1.],\n       [0., 0., 1., 0., 0., 0., 0., 0., 0., 0.],\n       [0., 1., 0., 0., 0., 0., 0., 0., 0., 0.]], dtype=float32)"
     },
     "execution_count": 26,
     "metadata": {},
     "output_type": "execute_result"
    }
   ],
   "source": [
    "X_new = X_test[:3]\n",
    "y_proba = model.predict(X_new) # gives proba of each class for each instance\n",
    "y_proba.round(3)"
   ],
   "metadata": {
    "collapsed": false
   }
  },
  {
   "cell_type": "markdown",
   "source": [
    "# Saving the model"
   ],
   "metadata": {
    "collapsed": false
   }
  },
  {
   "cell_type": "code",
   "execution_count": 27,
   "outputs": [],
   "source": [
    "model.save(\"cnn_fashion_MNIST_model.h5\")"
   ],
   "metadata": {
    "collapsed": false
   }
  },
  {
   "cell_type": "markdown",
   "source": [
    "\n"
   ],
   "metadata": {
    "collapsed": false
   }
  }
 ],
 "metadata": {
  "kernelspec": {
   "display_name": "Python 3",
   "language": "python",
   "name": "python3"
  },
  "language_info": {
   "codemirror_mode": {
    "name": "ipython",
    "version": 2
   },
   "file_extension": ".py",
   "mimetype": "text/x-python",
   "name": "python",
   "nbconvert_exporter": "python",
   "pygments_lexer": "ipython2",
   "version": "2.7.6"
  }
 },
 "nbformat": 4,
 "nbformat_minor": 0
}
